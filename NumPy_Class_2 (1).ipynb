{
  "nbformat": 4,
  "nbformat_minor": 0,
  "metadata": {
    "colab": {
      "provenance": []
    },
    "kernelspec": {
      "name": "python3",
      "display_name": "Python 3"
    },
    "language_info": {
      "name": "python"
    }
  },
  "cells": [
    {
      "cell_type": "code",
      "execution_count": null,
      "metadata": {
        "colab": {
          "base_uri": "https://localhost:8080/"
        },
        "id": "AzTWDLeckYrM",
        "outputId": "d508d948-2a99-4976-a1d3-37149e9e335a"
      },
      "outputs": [
        {
          "output_type": "execute_result",
          "data": {
            "text/plain": [
              "array([[6, 2, 1],\n",
              "       [7, 0, 7],\n",
              "       [6, 0, 7]])"
            ]
          },
          "metadata": {},
          "execution_count": 1
        }
      ],
      "source": [
        "import numpy as np\n",
        "data=np.random.randint(0,10,(3,3))\n",
        "data"
      ]
    },
    {
      "cell_type": "code",
      "source": [
        "np.random.randn(30,30).mean()"
      ],
      "metadata": {
        "colab": {
          "base_uri": "https://localhost:8080/"
        },
        "id": "IjjWFTNKoFj5",
        "outputId": "75aad476-bef9-4af6-e57a-04ff611013a6"
      },
      "execution_count": null,
      "outputs": [
        {
          "output_type": "execute_result",
          "data": {
            "text/plain": [
              "np.float64(-0.0021762290530103574)"
            ]
          },
          "metadata": {},
          "execution_count": 8
        }
      ]
    },
    {
      "cell_type": "code",
      "source": [
        "np.mean\n",
        "std\n",
        "var\n",
        "np.median"
      ],
      "metadata": {
        "id": "GDT21ELdoFgd"
      },
      "execution_count": null,
      "outputs": []
    },
    {
      "cell_type": "code",
      "source": [],
      "metadata": {
        "id": "zPhfcQMCoFd-"
      },
      "execution_count": null,
      "outputs": []
    },
    {
      "cell_type": "code",
      "source": [
        "np.std(data)"
      ],
      "metadata": {
        "colab": {
          "base_uri": "https://localhost:8080/"
        },
        "id": "EZr9aK-_oFbN",
        "outputId": "d73debec-c6e1-4c4b-fe8b-1d2cca7e95b0"
      },
      "execution_count": null,
      "outputs": [
        {
          "output_type": "execute_result",
          "data": {
            "text/plain": [
              "np.float64(2.9814239699997196)"
            ]
          },
          "metadata": {},
          "execution_count": 9
        }
      ]
    },
    {
      "cell_type": "code",
      "source": [
        "np.std(data)"
      ],
      "metadata": {
        "colab": {
          "base_uri": "https://localhost:8080/"
        },
        "id": "GBVlT_uUoFYq",
        "outputId": "a373d751-e480-4d5c-c3e2-bd1d8a77a6fa"
      },
      "execution_count": null,
      "outputs": [
        {
          "output_type": "execute_result",
          "data": {
            "text/plain": [
              "np.float64(8.88888888888889)"
            ]
          },
          "metadata": {},
          "execution_count": 10
        }
      ]
    },
    {
      "cell_type": "code",
      "source": [
        "np.mean(data)"
      ],
      "metadata": {
        "colab": {
          "base_uri": "https://localhost:8080/"
        },
        "id": "4ZEq6qeKoFVj",
        "outputId": "1b0a6130-d3fa-48cb-dd4c-f3672c30feea"
      },
      "execution_count": null,
      "outputs": [
        {
          "output_type": "execute_result",
          "data": {
            "text/plain": [
              "np.float64(4.0)"
            ]
          },
          "metadata": {},
          "execution_count": 11
        }
      ]
    },
    {
      "cell_type": "code",
      "source": [
        "np.median(data)"
      ],
      "metadata": {
        "colab": {
          "base_uri": "https://localhost:8080/"
        },
        "id": "3X7qj5XOoASB",
        "outputId": "189b078d-88da-4601-f016-76cf7bfd73f2"
      },
      "execution_count": null,
      "outputs": [
        {
          "output_type": "execute_result",
          "data": {
            "text/plain": [
              "np.float64(6.0)"
            ]
          },
          "metadata": {},
          "execution_count": 12
        }
      ]
    },
    {
      "cell_type": "code",
      "source": [
        "data=np.random.randint(0,100,10)\n",
        "data"
      ],
      "metadata": {
        "colab": {
          "base_uri": "https://localhost:8080/"
        },
        "id": "XjqBQNasoAPh",
        "outputId": "9d1f30ec-cfee-4bc0-e121-737325dcfeda"
      },
      "execution_count": null,
      "outputs": [
        {
          "output_type": "execute_result",
          "data": {
            "text/plain": [
              "array([84, 44, 42, 46, 50, 22, 74,  0,  7, 37])"
            ]
          },
          "metadata": {},
          "execution_count": 14
        }
      ]
    },
    {
      "cell_type": "code",
      "source": [
        "data.min(),data.max()"
      ],
      "metadata": {
        "colab": {
          "base_uri": "https://localhost:8080/"
        },
        "id": "IZN55noeoAM3",
        "outputId": "082a57b6-7fe1-41dd-b32f-cc3b92a5660b"
      },
      "execution_count": null,
      "outputs": [
        {
          "output_type": "execute_result",
          "data": {
            "text/plain": [
              "(np.int64(0), np.int64(84))"
            ]
          },
          "metadata": {},
          "execution_count": 18
        }
      ]
    },
    {
      "cell_type": "code",
      "source": [
        "range=data.max()-data.min()\n",
        "range"
      ],
      "metadata": {
        "colab": {
          "base_uri": "https://localhost:8080/"
        },
        "id": "vj_pRNejoAKT",
        "outputId": "2302178a-4360-4743-b73e-1946d143c1f1"
      },
      "execution_count": null,
      "outputs": [
        {
          "output_type": "execute_result",
          "data": {
            "text/plain": [
              "np.int64(84)"
            ]
          },
          "metadata": {},
          "execution_count": 20
        }
      ]
    },
    {
      "cell_type": "code",
      "source": [],
      "metadata": {
        "id": "v1bYDgz2oAIX"
      },
      "execution_count": null,
      "outputs": []
    },
    {
      "cell_type": "code",
      "source": [],
      "metadata": {
        "id": "UqmvSP8IoACC"
      },
      "execution_count": null,
      "outputs": []
    },
    {
      "cell_type": "code",
      "source": [],
      "metadata": {
        "id": "HXS2bp0Zlbic"
      },
      "execution_count": null,
      "outputs": []
    },
    {
      "cell_type": "code",
      "source": [
        "import numpy as np\n",
        "data=np.random.randint(0,5,(3,3))\n",
        "data"
      ],
      "metadata": {
        "colab": {
          "base_uri": "https://localhost:8080/"
        },
        "id": "4JSylmATlbfe",
        "outputId": "2fbda5f0-d9e5-4b3c-a0c1-b74d73ee5db3"
      },
      "execution_count": null,
      "outputs": [
        {
          "output_type": "execute_result",
          "data": {
            "text/plain": [
              "array([[3, 4, 0],\n",
              "       [4, 3, 0],\n",
              "       [1, 2, 1]])"
            ]
          },
          "metadata": {},
          "execution_count": 21
        }
      ]
    },
    {
      "cell_type": "code",
      "source": [
        "data.sum(axis=0)"
      ],
      "metadata": {
        "colab": {
          "base_uri": "https://localhost:8080/"
        },
        "id": "W-kRegqIlbc0",
        "outputId": "36c77d4f-4c8f-4fdd-fcca-b5add350c64b"
      },
      "execution_count": null,
      "outputs": [
        {
          "output_type": "execute_result",
          "data": {
            "text/plain": [
              "array([8, 9, 1])"
            ]
          },
          "metadata": {},
          "execution_count": 24
        }
      ]
    },
    {
      "cell_type": "code",
      "source": [
        "data=np.random.randint(0,10,(3,3))\n",
        "data"
      ],
      "metadata": {
        "colab": {
          "base_uri": "https://localhost:8080/"
        },
        "id": "UspZKb1plbb9",
        "outputId": "a5281157-3ae0-488b-cd49-dea1136c985c"
      },
      "execution_count": null,
      "outputs": [
        {
          "output_type": "execute_result",
          "data": {
            "text/plain": [
              "array([[2, 6, 1],\n",
              "       [4, 7, 1],\n",
              "       [1, 9, 4]])"
            ]
          },
          "metadata": {},
          "execution_count": 25
        }
      ]
    },
    {
      "cell_type": "code",
      "source": [
        "data.max(axis=0)"
      ],
      "metadata": {
        "colab": {
          "base_uri": "https://localhost:8080/"
        },
        "id": "nZEGThTvlbZb",
        "outputId": "6a95ed2a-d64c-46ec-8c36-5b9a97470922"
      },
      "execution_count": null,
      "outputs": [
        {
          "output_type": "execute_result",
          "data": {
            "text/plain": [
              "array([4, 9, 4])"
            ]
          },
          "metadata": {},
          "execution_count": 26
        }
      ]
    },
    {
      "cell_type": "code",
      "source": [
        "data.min(axis=1)"
      ],
      "metadata": {
        "colab": {
          "base_uri": "https://localhost:8080/"
        },
        "id": "sNFBTzsqlMAE",
        "outputId": "09a1ae1b-6364-4c38-f995-acd964e4ae9e"
      },
      "execution_count": null,
      "outputs": [
        {
          "output_type": "execute_result",
          "data": {
            "text/plain": [
              "array([1, 1, 1])"
            ]
          },
          "metadata": {},
          "execution_count": 27
        }
      ]
    },
    {
      "cell_type": "code",
      "source": [
        "data"
      ],
      "metadata": {
        "colab": {
          "base_uri": "https://localhost:8080/"
        },
        "id": "4jt0jWj1lL9h",
        "outputId": "fe950c31-3bb3-4565-b1c7-4386d090360b"
      },
      "execution_count": null,
      "outputs": [
        {
          "output_type": "execute_result",
          "data": {
            "text/plain": [
              "array([[2, 6, 1],\n",
              "       [4, 7, 1],\n",
              "       [1, 9, 4]])"
            ]
          },
          "metadata": {},
          "execution_count": 28
        }
      ]
    },
    {
      "cell_type": "code",
      "source": [
        "data[0:2,0:2].max()"
      ],
      "metadata": {
        "colab": {
          "base_uri": "https://localhost:8080/"
        },
        "id": "G_ZCWJHnlL6a",
        "outputId": "9ea22130-7165-4d7d-9e79-d0f827a971d3"
      },
      "execution_count": null,
      "outputs": [
        {
          "output_type": "execute_result",
          "data": {
            "text/plain": [
              "np.int64(7)"
            ]
          },
          "metadata": {},
          "execution_count": 29
        }
      ]
    },
    {
      "cell_type": "code",
      "source": [],
      "metadata": {
        "id": "Is-ax_j6lL3U"
      },
      "execution_count": null,
      "outputs": []
    },
    {
      "cell_type": "code",
      "source": [
        "data=np.random.randint(0,10,10)\n",
        "data"
      ],
      "metadata": {
        "colab": {
          "base_uri": "https://localhost:8080/"
        },
        "id": "cpxb983ilLze",
        "outputId": "9166e275-e53c-4df1-b041-eaac92a90fbd"
      },
      "execution_count": null,
      "outputs": [
        {
          "output_type": "execute_result",
          "data": {
            "text/plain": [
              "array([9, 4, 1, 5, 6, 4, 9, 9, 2, 2])"
            ]
          },
          "metadata": {},
          "execution_count": 34
        }
      ]
    },
    {
      "cell_type": "code",
      "source": [
        "data.min()"
      ],
      "metadata": {
        "colab": {
          "base_uri": "https://localhost:8080/"
        },
        "id": "10hxT_1HlLvs",
        "outputId": "4cab064c-898e-4870-f178-8068a70374cb"
      },
      "execution_count": null,
      "outputs": [
        {
          "output_type": "execute_result",
          "data": {
            "text/plain": [
              "np.int64(1)"
            ]
          },
          "metadata": {},
          "execution_count": 35
        }
      ]
    },
    {
      "cell_type": "code",
      "source": [
        "data.argmin()"
      ],
      "metadata": {
        "colab": {
          "base_uri": "https://localhost:8080/"
        },
        "id": "Jem3wRJmlLrr",
        "outputId": "a87a964b-ace9-4059-aca2-d54583ba96c3"
      },
      "execution_count": null,
      "outputs": [
        {
          "output_type": "execute_result",
          "data": {
            "text/plain": [
              "np.int64(2)"
            ]
          },
          "metadata": {},
          "execution_count": 36
        }
      ]
    },
    {
      "cell_type": "code",
      "source": [],
      "metadata": {
        "id": "Ia9uuyJylLoR"
      },
      "execution_count": null,
      "outputs": []
    },
    {
      "cell_type": "code",
      "source": [
        "data=np.random.randint(0,100,(3,3))\n",
        "data.argmin(axis=1)"
      ],
      "metadata": {
        "colab": {
          "base_uri": "https://localhost:8080/"
        },
        "id": "pDw698ZGlLk9",
        "outputId": "92922e64-4dcb-4a0b-9632-75b13ee5e334"
      },
      "execution_count": null,
      "outputs": [
        {
          "output_type": "execute_result",
          "data": {
            "text/plain": [
              "array([2, 0, 0])"
            ]
          },
          "metadata": {},
          "execution_count": 39
        }
      ]
    },
    {
      "cell_type": "code",
      "source": [
        "data"
      ],
      "metadata": {
        "colab": {
          "base_uri": "https://localhost:8080/"
        },
        "id": "z-Ou7JV6lLhL",
        "outputId": "613f17e4-75a3-43b8-b98c-88522836089c"
      },
      "execution_count": null,
      "outputs": [
        {
          "output_type": "execute_result",
          "data": {
            "text/plain": [
              "array([[67, 95, 54],\n",
              "       [29, 50, 67],\n",
              "       [31, 34, 58]])"
            ]
          },
          "metadata": {},
          "execution_count": 40
        }
      ]
    },
    {
      "cell_type": "code",
      "source": [
        "import numpy as np\n",
        "\n",
        "# Manually created array: [Store ID, Sales, Customers, Inventory, Returns]\n",
        "retail_data = np.array([\n",
        "    [1, 25000, 300, 1200, 10],\n",
        "    [2, 32000, 450, 1500, 15],\n",
        "    [3, 28000, 380, 1100, 8],\n",
        "    [4, 41000, 500, 1600, 20],\n",
        "    [5, 35000, 420, 1400, 12],\n",
        "    [6, 27000, 360, 1300, 9],\n",
        "    [7, 39000, 480, 1700, 18],\n",
        "    [8, 30000, 400, 1250, 14],\n",
        "    [9, 45000, 550, 1800, 25],\n",
        "    [10, 33000, 410, 1450, 11]\n",
        "])\n",
        "\n",
        "print(retail_data)\n"
      ],
      "metadata": {
        "colab": {
          "base_uri": "https://localhost:8080/"
        },
        "id": "uWXFTO1GlLd7",
        "outputId": "46857bae-e78e-4012-9963-dc70fab0734d"
      },
      "execution_count": null,
      "outputs": [
        {
          "output_type": "stream",
          "name": "stdout",
          "text": [
            "[[    1 25000   300  1200    10]\n",
            " [    2 32000   450  1500    15]\n",
            " [    3 28000   380  1100     8]\n",
            " [    4 41000   500  1600    20]\n",
            " [    5 35000   420  1400    12]\n",
            " [    6 27000   360  1300     9]\n",
            " [    7 39000   480  1700    18]\n",
            " [    8 30000   400  1250    14]\n",
            " [    9 45000   550  1800    25]\n",
            " [   10 33000   410  1450    11]]\n"
          ]
        }
      ]
    },
    {
      "cell_type": "code",
      "source": [
        "[Store ID, Sales, Customers, Inventory, Returns]"
      ],
      "metadata": {
        "id": "kkjQ5dcLzgx-"
      },
      "execution_count": null,
      "outputs": []
    },
    {
      "cell_type": "code",
      "source": [
        "retail_data[:,1].sum()"
      ],
      "metadata": {
        "colab": {
          "base_uri": "https://localhost:8080/"
        },
        "id": "RG6gBkVPlLal",
        "outputId": "5873dfbc-cc8a-4083-916a-41ccd8d54ce4"
      },
      "execution_count": null,
      "outputs": [
        {
          "output_type": "execute_result",
          "data": {
            "text/plain": [
              "np.int64(335000)"
            ]
          },
          "metadata": {},
          "execution_count": 48
        }
      ]
    },
    {
      "cell_type": "code",
      "source": [
        "retail_data[:,3].argmax()+1"
      ],
      "metadata": {
        "colab": {
          "base_uri": "https://localhost:8080/"
        },
        "id": "LGaiyWeYlLXM",
        "outputId": "0eebb9b6-915e-478e-8cd3-b0676f97dc4e"
      },
      "execution_count": null,
      "outputs": [
        {
          "output_type": "execute_result",
          "data": {
            "text/plain": [
              "np.int64(9)"
            ]
          },
          "metadata": {},
          "execution_count": 52
        }
      ]
    },
    {
      "cell_type": "code",
      "source": [
        "retail_data"
      ],
      "metadata": {
        "colab": {
          "base_uri": "https://localhost:8080/"
        },
        "id": "GFytasZ0lLT0",
        "outputId": "a173c700-77f8-4a30-90b6-eed851273f4f"
      },
      "execution_count": null,
      "outputs": [
        {
          "output_type": "execute_result",
          "data": {
            "text/plain": [
              "array([[    1, 25000,   300,  1200,    10],\n",
              "       [    2, 32000,   450,  1500,    15],\n",
              "       [    3, 28000,   380,  1100,     8],\n",
              "       [    4, 41000,   500,  1600,    20],\n",
              "       [    5, 35000,   420,  1400,    12],\n",
              "       [    6, 27000,   360,  1300,     9],\n",
              "       [    7, 39000,   480,  1700,    18],\n",
              "       [    8, 30000,   400,  1250,    14],\n",
              "       [    9, 45000,   550,  1800,    25],\n",
              "       [   10, 33000,   410,  1450,    11]])"
            ]
          },
          "metadata": {},
          "execution_count": 51
        }
      ]
    },
    {
      "cell_type": "code",
      "source": [
        "sales/customer\n",
        "sales/transaction : basket value\n",
        "sales/units: basket size"
      ],
      "metadata": {
        "id": "Hh_Ci-ezlLQc"
      },
      "execution_count": null,
      "outputs": []
    },
    {
      "cell_type": "code",
      "source": [
        "[Store ID, Sales, Customers, Inventory, Returns]"
      ],
      "metadata": {
        "id": "tBJz9bTy13Fj"
      },
      "execution_count": null,
      "outputs": []
    },
    {
      "cell_type": "code",
      "source": [
        "(retail_data[:,1]/retail_data[:,2]).argmax()+1"
      ],
      "metadata": {
        "colab": {
          "base_uri": "https://localhost:8080/"
        },
        "id": "kQD5Npzs14BY",
        "outputId": "927dbe80-30e2-46fc-c76e-8bfcc7c002c4"
      },
      "execution_count": null,
      "outputs": [
        {
          "output_type": "execute_result",
          "data": {
            "text/plain": [
              "np.int64(1)"
            ]
          },
          "metadata": {},
          "execution_count": 62
        }
      ]
    },
    {
      "cell_type": "code",
      "source": [
        "retail_data"
      ],
      "metadata": {
        "colab": {
          "base_uri": "https://localhost:8080/"
        },
        "id": "rUt_XAAulLK0",
        "outputId": "d212e57d-6943-4a8e-80ed-42b8035e8fbe"
      },
      "execution_count": null,
      "outputs": [
        {
          "output_type": "execute_result",
          "data": {
            "text/plain": [
              "array([[    1, 25000,   300,  1200,    10],\n",
              "       [    2, 32000,   450,  1500,    15],\n",
              "       [    3, 28000,   380,  1100,     8],\n",
              "       [    4, 41000,   500,  1600,    20],\n",
              "       [    5, 35000,   420,  1400,    12],\n",
              "       [    6, 27000,   360,  1300,     9],\n",
              "       [    7, 39000,   480,  1700,    18],\n",
              "       [    8, 30000,   400,  1250,    14],\n",
              "       [    9, 45000,   550,  1800,    25],\n",
              "       [   10, 33000,   410,  1450,    11]])"
            ]
          },
          "metadata": {},
          "execution_count": 53
        }
      ]
    },
    {
      "cell_type": "code",
      "source": [
        "[Store ID, Sales, Customers, Inventory, Returns]"
      ],
      "metadata": {
        "id": "uA0-PYuhlLHM"
      },
      "execution_count": null,
      "outputs": []
    },
    {
      "cell_type": "code",
      "source": [
        "# Retail Data – Business Questions (for `retail_data`)\n",
        "\n",
        "**Assumed columns:** `[StoreID, Sales, Customers, Inventory, Returns]`\n",
        "\n",
        "## Basic Performance Analysis\n",
        "1. What is the **total revenue** generated across all stores?\n",
        "2. Which store recorded the **highest sales**?\n",
        "3. Which store recorded the **lowest sales**?\n",
        "4. What is the **average daily sales** per store?\n",
        "5. How many stores achieved sales **above ₹35,000**?\n",
        "\n",
        "## Customer Insights\n",
        "6. Which store had the **highest customer footfall**?\n",
        "7. What is the **average number of customers** per store?\n",
        "8. How many stores have **more than 450 customers**?\n",
        "9. Which store has the **lowest customer count**?\n",
        "10. Is there any store where **high sales do not correspond to high customers**?\n",
        "\n",
        "## Inventory & Returns Analysis\n",
        "11. What is the **total inventory** across all stores?\n",
        "12. Which store has the **highest inventory stock**?\n",
        "13. How many stores have **inventory less than 1300 units**?\n",
        "14. Which store has the **highest return rate** (returns ÷ inventory)?\n",
        "15. Which stores have **returns greater than 15 units**?\n",
        "\n",
        "## Sales & Customer Correlation\n",
        "16. Is there a **positive correlation** between sales and customers?\n",
        "17. Which store has **high customer visits but low sales**?\n",
        "18. Which store has **low customers but high sales**?\n",
        "19. How many stores have **sales per customer above ₹90**?\n",
        "20. Which stores could **benefit from customer acquisition campaigns** (low customers, high inventory)?\n",
        "\n",
        "## Profitability & Growth\n",
        "21. If profit margin is **20% of sales**, what is the **profit per store**?\n",
        "22. Which store has the **highest profit**?\n",
        "23. Which store has the **lowest profit**?\n",
        "24. If sales increase by **10% next month**, what are the **new sales figures**?\n",
        "25. How will **total profit** change with the 10% sales increase?\n",
        "\n",
        "## Operational Strategy\n",
        "26. Which stores need **inventory restocking** based on sales and current stock?\n",
        "27. Which stores show **high returns percentage** and might require **quality checks**?\n",
        "28. Which store is the **best performer overall** (sales, customers, inventory turnover)?\n",
        "29. Which store is the **worst performer overall**?\n",
        "30. Which stores can be considered for **expansion** based on strong sales and customer metrics?\n"
      ],
      "metadata": {
        "id": "XndYEg3-2m2K"
      },
      "execution_count": null,
      "outputs": []
    },
    {
      "cell_type": "code",
      "source": [],
      "metadata": {
        "id": "ETSBaFI1lLES"
      },
      "execution_count": null,
      "outputs": []
    },
    {
      "cell_type": "code",
      "source": [],
      "metadata": {
        "id": "EmNvTbSmlLAr"
      },
      "execution_count": null,
      "outputs": []
    },
    {
      "cell_type": "code",
      "source": [
        "data=np.random.randint(0,10,3)\n",
        "x=20"
      ],
      "metadata": {
        "id": "QO3UaHejlK9i"
      },
      "execution_count": null,
      "outputs": []
    },
    {
      "cell_type": "code",
      "source": [
        "data+x"
      ],
      "metadata": {
        "colab": {
          "base_uri": "https://localhost:8080/"
        },
        "id": "u8vh2zi0lK6k",
        "outputId": "9fcac7cb-606a-45d8-df54-b0658287fa30"
      },
      "execution_count": null,
      "outputs": [
        {
          "output_type": "execute_result",
          "data": {
            "text/plain": [
              "array([28, 22, 26])"
            ]
          },
          "metadata": {},
          "execution_count": 65
        }
      ]
    },
    {
      "cell_type": "code",
      "source": [
        "data"
      ],
      "metadata": {
        "colab": {
          "base_uri": "https://localhost:8080/"
        },
        "id": "Z51GTTJylK3i",
        "outputId": "f9f19fdd-52c1-4313-fca9-a2065c95c392"
      },
      "execution_count": null,
      "outputs": [
        {
          "output_type": "execute_result",
          "data": {
            "text/plain": [
              "array([8, 2, 6])"
            ]
          },
          "metadata": {},
          "execution_count": 66
        }
      ]
    },
    {
      "cell_type": "code",
      "source": [
        "x=np.random.randint(0,10,(3,1))\n",
        "y=np.random.randint(0,10,(1,3))\n",
        "x+y"
      ],
      "metadata": {
        "colab": {
          "base_uri": "https://localhost:8080/"
        },
        "id": "efv1W8bLlK08",
        "outputId": "ec1cf850-7a31-434b-ec0c-e458fdd584ea"
      },
      "execution_count": null,
      "outputs": [
        {
          "output_type": "execute_result",
          "data": {
            "text/plain": [
              "array([[13, 18, 10],\n",
              "       [13, 18, 10],\n",
              "       [12, 17,  9]])"
            ]
          },
          "metadata": {},
          "execution_count": 73
        }
      ]
    },
    {
      "cell_type": "code",
      "source": [
        "x"
      ],
      "metadata": {
        "colab": {
          "base_uri": "https://localhost:8080/"
        },
        "id": "GJjgBvm5lKyM",
        "outputId": "3f7511ab-dde4-424b-f874-8156d14228e0"
      },
      "execution_count": null,
      "outputs": [
        {
          "output_type": "execute_result",
          "data": {
            "text/plain": [
              "array([[9],\n",
              "       [9],\n",
              "       [8]])"
            ]
          },
          "metadata": {},
          "execution_count": 74
        }
      ]
    },
    {
      "cell_type": "code",
      "source": [
        "y"
      ],
      "metadata": {
        "colab": {
          "base_uri": "https://localhost:8080/"
        },
        "id": "ZWRrwYLn4zla",
        "outputId": "cbfe6c2d-8654-4f96-8488-cd78fadd5d04"
      },
      "execution_count": null,
      "outputs": [
        {
          "output_type": "execute_result",
          "data": {
            "text/plain": [
              "array([[4, 9, 1]])"
            ]
          },
          "metadata": {},
          "execution_count": 75
        }
      ]
    },
    {
      "cell_type": "code",
      "source": [
        "x=np.random.randint(0,10,(3,1))\n",
        "y=np.random.randint(0,10,(1,3))"
      ],
      "metadata": {
        "id": "7zTM0IuX5U7W"
      },
      "execution_count": null,
      "outputs": []
    },
    {
      "cell_type": "code",
      "source": [
        "x"
      ],
      "metadata": {
        "id": "e2x5IJg75XE0",
        "outputId": "b7cbea69-c25f-4056-eafb-4878ae203a61",
        "colab": {
          "base_uri": "https://localhost:8080/"
        }
      },
      "execution_count": null,
      "outputs": [
        {
          "output_type": "execute_result",
          "data": {
            "text/plain": [
              "array([[0],\n",
              "       [2],\n",
              "       [7]])"
            ]
          },
          "metadata": {},
          "execution_count": 77
        }
      ]
    },
    {
      "cell_type": "code",
      "source": [
        "y"
      ],
      "metadata": {
        "id": "6LvGSPIY5ZD6",
        "outputId": "a4503ac1-9d94-4acc-8c1f-2f2b567451f7",
        "colab": {
          "base_uri": "https://localhost:8080/"
        }
      },
      "execution_count": null,
      "outputs": [
        {
          "output_type": "execute_result",
          "data": {
            "text/plain": [
              "array([[1, 7, 0]])"
            ]
          },
          "metadata": {},
          "execution_count": 78
        }
      ]
    }
  ]
}